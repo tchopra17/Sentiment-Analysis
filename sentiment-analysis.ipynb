{
 "cells": [
  {
   "cell_type": "code",
   "execution_count": 16,
   "metadata": {},
   "outputs": [],
   "source": [
    "from fastai import *\n",
    "from fastai.text import *\n",
    "import pandas as pd\n",
    "import numpy as np"
   ]
  },
  {
   "cell_type": "code",
   "execution_count": 17,
   "metadata": {},
   "outputs": [],
   "source": [
    "batch_size = 1\n",
    "path = \"~/dev/news_sentiment/data/\""
   ]
  },
  {
   "cell_type": "code",
   "execution_count": 18,
   "metadata": {
    "scrolled": true
   },
   "outputs": [],
   "source": [
    "#select important data\n",
    "data = pd.read_csv(path+\"news_train_from2013.csv\")\n",
    "data_trimmed = data[['headline', \"sentimentClass\"]]\n",
    "data_trimmed = data_trimmed.dropna()\n",
    "\n",
    "#split into training and test\n",
    "msk = np.random.rand(len(data_trimmed)) < 0.01\n",
    "train = data_trimmed[msk]\n",
    "test=data_trimmed[~msk]\n",
    "\n",
    "train.to_csv(path+\"training.csv\")\n",
    "test.to_csv(path+\"test.csv\")"
   ]
  },
  {
   "cell_type": "code",
   "execution_count": 19,
   "metadata": {},
   "outputs": [
    {
     "data": {
      "text/plain": [
       "9162230"
      ]
     },
     "execution_count": 19,
     "metadata": {},
     "output_type": "execute_result"
    }
   ],
   "source": [
    "len(test)"
   ]
  },
  {
   "cell_type": "code",
   "execution_count": 20,
   "metadata": {},
   "outputs": [
    {
     "data": {
      "text/plain": [
       "92560"
      ]
     },
     "execution_count": 20,
     "metadata": {},
     "output_type": "execute_result"
    }
   ],
   "source": [
    "len(train)"
   ]
  },
  {
   "cell_type": "code",
   "execution_count": 21,
   "metadata": {},
   "outputs": [],
   "source": [
    "data_lm = TextDataBunch.from_csv(path, \"training.csv\", text_cols = \"headline\", label_cols = \"sentimentClass\").split_by_rand_pct(0.1, seed=69).label_for_lm().databunch(bs=batch_size, num_workers = 1)"
   ]
  },
  {
   "cell_type": "code",
   "execution_count": 22,
   "metadata": {},
   "outputs": [
    {
     "data": {
      "text/html": [
       "<table border=\"1\" class=\"dataframe\">\n",
       "  <thead>\n",
       "    <tr style=\"text-align: right;\">\n",
       "      <th>idx</th>\n",
       "      <th>text</th>\n",
       "    </tr>\n",
       "  </thead>\n",
       "  <tbody>\n",
       "    <tr>\n",
       "      <td>0</td>\n",
       "      <td>24 0 xxunk 1942 36 xxunk 92 239 ] xxbos [ 2 6 xxunk 6 xxunk 6 148 6 301 9 6 xxunk 42 6 80 131 6 149 6 xxunk 6 20 6 xxunk 86 6 189 6 xxunk 6 15 14 0 6 104 6 231 ] xxbos [ 2 6 141 6 116 6 xxunk 6 409 6 2034 6 17 6 xxunk 6 284 6 59</td>\n",
       "    </tr>\n",
       "  </tbody>\n",
       "</table>"
      ],
      "text/plain": [
       "<IPython.core.display.HTML object>"
      ]
     },
     "metadata": {},
     "output_type": "display_data"
    }
   ],
   "source": [
    "data_lm.show_batch()"
   ]
  },
  {
   "cell_type": "code",
   "execution_count": 23,
   "metadata": {},
   "outputs": [],
   "source": [
    "learn_lm = language_model_learner(data_lm, AWD_LSTM, drop_mult=0.3)"
   ]
  },
  {
   "cell_type": "code",
   "execution_count": 24,
   "metadata": {},
   "outputs": [
    {
     "data": {
      "text/plain": [
       "481"
      ]
     },
     "execution_count": 24,
     "metadata": {},
     "output_type": "execute_result"
    }
   ],
   "source": [
    "wiki_itos = pickle.load(open(Config().model_path()/'wt103-fwd/itos_wt103.pkl', 'rb'))\n",
    "vocab = data_lm.vocab\n",
    "vocab.stoi[\"finance\"]"
   ]
  },
  {
   "cell_type": "code",
   "execution_count": 25,
   "metadata": {},
   "outputs": [
    {
     "data": {
      "text/plain": [
       "60000"
      ]
     },
     "execution_count": 25,
     "metadata": {},
     "output_type": "execute_result"
    }
   ],
   "source": [
    "len(wiki_itos)"
   ]
  },
  {
   "cell_type": "code",
   "execution_count": 26,
   "metadata": {},
   "outputs": [
    {
     "data": {
      "text/plain": [
       "27320"
      ]
     },
     "execution_count": 26,
     "metadata": {},
     "output_type": "execute_result"
    }
   ],
   "source": [
    "len(vocab.itos)"
   ]
  },
  {
   "cell_type": "code",
   "execution_count": 27,
   "metadata": {},
   "outputs": [
    {
     "data": {
      "text/plain": [
       "['marengo',\n",
       " 'euboea',\n",
       " 'copernicus',\n",
       " 'woolly',\n",
       " 'bana',\n",
       " 'aerobics',\n",
       " 'portraiture',\n",
       " 'mummies',\n",
       " 'clarisse',\n",
       " 'arcminutes',\n",
       " 'tabla',\n",
       " 'ruthlessness',\n",
       " 'unicameral',\n",
       " 'bedingfield',\n",
       " 'polis']"
      ]
     },
     "execution_count": 27,
     "metadata": {},
     "output_type": "execute_result"
    }
   ],
   "source": [
    "i, unks = 0, []\n",
    "while len(unks) < 50:\n",
    "    if data_lm.vocab.itos[i] not in wiki_itos: unks.append((i,data_lm.vocab.itos[i]))\n",
    "    i += 1\n",
    "wiki_words = set(wiki_itos)\n",
    "news_words = set(vocab.itos)\n",
    "wiki_not_news = wiki_words.difference(news_words)\n",
    "wiki_not_news_list = []\n",
    "for i in range(100):\n",
    "    word = wiki_not_news.pop()\n",
    "    wiki_not_news_list.append(word)\n",
    "    wiki_not_news.add(word)\n",
    "wiki_not_news_list[:15]"
   ]
  },
  {
   "cell_type": "code",
   "execution_count": 28,
   "metadata": {},
   "outputs": [
    {
     "data": {
      "text/plain": [
       "['aptargroup',\n",
       " 'illumina',\n",
       " 'headcount',\n",
       " 'tsl.n',\n",
       " 'synovis',\n",
       " 'kemet',\n",
       " 'afl.n',\n",
       " '2-conocophillips',\n",
       " 'nsm.n',\n",
       " 'curtailment',\n",
       " 'reg-3i',\n",
       " 'teliasonera',\n",
       " 'carmike',\n",
       " 'mitek',\n",
       " 'lawmaker']"
      ]
     },
     "execution_count": 28,
     "metadata": {},
     "output_type": "execute_result"
    }
   ],
   "source": [
    "news_not_wiki = news_words.difference(wiki_words)\n",
    "news_not_wiki_list = []\n",
    "for i in range(100):\n",
    "    word = news_not_wiki.pop()\n",
    "    news_not_wiki_list.append(word)\n",
    "    news_not_wiki.add(word)\n",
    "news_not_wiki_list[:15]"
   ]
  },
  {
   "cell_type": "code",
   "execution_count": null,
   "metadata": {},
   "outputs": [],
   "source": []
  }
 ],
 "metadata": {
  "kernelspec": {
   "display_name": "Python 3",
   "language": "python",
   "name": "python3"
  },
  "language_info": {
   "codemirror_mode": {
    "name": "ipython",
    "version": 3
   },
   "file_extension": ".py",
   "mimetype": "text/x-python",
   "name": "python",
   "nbconvert_exporter": "python",
   "pygments_lexer": "ipython3",
   "version": "3.7.4"
  }
 },
 "nbformat": 4,
 "nbformat_minor": 2
}
